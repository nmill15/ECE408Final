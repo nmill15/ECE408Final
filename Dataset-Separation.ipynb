{
 "cells": [
  {
   "cell_type": "code",
   "execution_count": 230,
   "metadata": {},
   "outputs": [],
   "source": [
    "import numpy as np\n",
    "import librosa, librosa.display\n",
    "import matplotlib.pyplot as plt\n",
    "from IPython.display import Audio\n",
    "import pandas as pd\n",
    "import os\n",
    "import warnings\n",
    "warnings.filterwarnings('ignore')\n",
    "from sklearn.preprocessing import MinMaxScaler\n",
    "from audiomentations import Compose, AddGaussianNoise, Gain, PitchShift, Shift\n",
    "import torch\n",
    "from torchvision import datasets, transforms, io, transforms\n",
    "from torchinfo import summary\n",
    "from torch.utils.data import DataLoader, Dataset\n",
    "import torch.nn as nn\n",
    "from collections import Counter\n",
    "import soundfile"
   ]
  },
  {
   "attachments": {},
   "cell_type": "markdown",
   "metadata": {},
   "source": [
    "Function Definitions"
   ]
  },
  {
   "cell_type": "code",
   "execution_count": 20,
   "metadata": {},
   "outputs": [],
   "source": [
    "# Mel Spectrogram Function\n",
    "def get_mel_spectrogram(samples: np.array, sr: int = 44100):\n",
    "    \n",
    "    hop_length = len(samples)//256 # Static length of 256 x 256\n",
    "    \n",
    "    # Get Mel Spectrogram features\n",
    "    mel_features = librosa.feature.melspectrogram(y=samples, sr=sr, hop_length=hop_length, n_mels=256)\n",
    "    \n",
    "    # Fix length\n",
    "    mel_features = mel_features[:, :256]\n",
    "    \n",
    "    # Convert to decibels and normalize image\n",
    "    mel_in_db = librosa.power_to_db(mel_features, ref=np.max)\n",
    "    scaler = MinMaxScaler(feature_range=(0, 1))\n",
    "    return scaler.fit_transform(mel_in_db)"
   ]
  },
  {
   "cell_type": "code",
   "execution_count": 3,
   "metadata": {},
   "outputs": [],
   "source": [
    "# Dataset Augmentation Function\n",
    "def apply_augmentation(samples: np.array):\n",
    "    \n",
    "    # Add Gaussian Noise\n",
    "    gaussian_noise = AddGaussianNoise(\n",
    "        min_amplitude=0.001,\n",
    "        max_amplitude= 0.015,\n",
    "        p=0.5\n",
    "    )\n",
    "    # Add Time Shift\n",
    "    time_shift = Shift(\n",
    "        min_fraction=-0.2,\n",
    "        max_fraction=0.2,\n",
    "        rollover=False,\n",
    "        fade=True,\n",
    "        p=0.5\n",
    "    )\n",
    "    # Add Pitch Shift\n",
    "    pitch_shift = PitchShift(\n",
    "        min_semitones=-0.5,\n",
    "        max_semitones=0.5,\n",
    "        p=0.25\n",
    "    )\n",
    "    # Add Gain\n",
    "    gain = Gain(p=0.5)\n",
    "    augmenter = Compose(\n",
    "        [time_shift, gain, pitch_shift, gaussian_noise])\n",
    "    return augmenter(samples=samples,\n",
    "                     sample_rate=44100)"
   ]
  },
  {
   "cell_type": "code",
   "execution_count": 21,
   "metadata": {},
   "outputs": [],
   "source": [
    "# Save Mel Spectrogram Images\n",
    "def create_spectrogram_images(dataset, type):\n",
    "    \n",
    "    i = 0\n",
    "    for _, row in dataset.iterrows():\n",
    "        \n",
    "        specs = row[0]\n",
    "        label = row[1]\n",
    "        \n",
    "        directory = f'./spectrograms/{type}/{label}/'\n",
    "        if(os.path.isdir(directory)):\n",
    "            pass\n",
    "        else:\n",
    "            os.makedirs(directory, mode=0o777, exist_ok=True)\n",
    "        \n",
    "        plt.imsave(f'./spectrograms/{type}/{label}/spec_img{i}.png',specs, cmap='viridis')\n",
    "        i += 1"
   ]
  },
  {
   "cell_type": "code",
   "execution_count": 87,
   "metadata": {},
   "outputs": [],
   "source": [
    "# Model Training Function\n",
    "def train(dataloader, model, cost, optimizer, device):\n",
    "    \n",
    "    model.train()\n",
    "    size = len(dataloader.dataset)\n",
    "    for batch, data in enumerate(dataloader):\n",
    "        \n",
    "        X, Y = data[0].to(device), data[1].to(device)\n",
    "        optimizer.zero_grad()\n",
    "        pred = model(X)\n",
    "        loss = cost(pred, Y)\n",
    "        loss.backward()\n",
    "        optimizer.step()\n",
    "\n",
    "        if batch % 100 == 0:\n",
    "            loss, current = loss.item(), batch * len(X)\n",
    "            print(f'loss: {loss:>7f}  [{current:>5d}/{size:>5d}]')\n",
    "    return loss\n",
    "\n",
    "# Model Testing Function\n",
    "def test(dataloader, model, cost, device):\n",
    "    size = len(dataloader.dataset)\n",
    "    model.eval()\n",
    "    test_loss, correct = 0, 0\n",
    "\n",
    "    with torch.no_grad():\n",
    "        for batch, (X, Y) in enumerate(dataloader):\n",
    "            X, Y = X.to(device), Y.to(device)\n",
    "            pred = model(X)\n",
    "\n",
    "            test_loss += cost(pred, Y).item()\n",
    "            correct += (pred.argmax(1)==Y).type(torch.float).sum().item()\n",
    "\n",
    "    test_loss /= size\n",
    "    correct /= size\n",
    "\n",
    "    print(f'\\nTest Error:\\nacc: {(100*correct):>0.1f}%, avg loss: {test_loss:>8f}\\n')\n",
    "\n",
    "    return 100 * correct\n"
   ]
  },
  {
   "attachments": {},
   "cell_type": "markdown",
   "metadata": {},
   "source": [
    "Loading Dataset "
   ]
  },
  {
   "cell_type": "code",
   "execution_count": null,
   "metadata": {},
   "outputs": [],
   "source": [
    "dataset_path = 'AVP-LVT_Dataset\\AVP_Dataset\\Personal' # Raw Dataset Path\n",
    "dataset = pd.DataFrame(columns = ['Specs','Label', 'Audio']) # Define Pandas Dataframe\n",
    "\n",
    "for subdir,_,files in os.walk(dataset_path):\n",
    "    for filename in (files): \n",
    "        if filename.endswith('.csv'):\n",
    "            onset_csv = pd.read_csv(os.path.join(subdir,filename), names=['Onsets','Inst','Phenome','Sil'])\n",
    "            labels = onset_csv['Inst']\n",
    "            onsets = np.floor(np.array(onset_csv['Onsets']) * 44100)\n",
    "            onsets = onsets.astype(int)\n",
    "        if filename.endswith('.wav'):\n",
    "            x, sr = librosa.load(os.path.join(subdir,filename), sr = None)\n",
    "            for i in range(1,len(onsets)):\n",
    "                if i == 1:\n",
    "                    x_audio = x[(onsets[i-1]):onsets[i]]\n",
    "                else:\n",
    "                    x_audio = x[(onsets[i-1]-1000):onsets[i]]\n",
    "                x_audio = librosa.util.fix_length(x_audio, 11025)\n",
    "                mel1 = get_mel_spectrogram(x_audio)\n",
    "                dataset =  dataset.append({'Specs':mel1, 'Label':labels[i-1], 'Audio':x_audio}, ignore_index=True)\n",
    "                x_temp = apply_augmentation(x_audio)\n",
    "                x_audio = librosa.util.fix_length(x_temp, 11025)\n",
    "                mel1 = get_mel_spectrogram(x_audio)\n",
    "                dataset =  dataset.append({'Specs':mel1, 'Label':labels[i-1], 'Audio':x_audio}, ignore_index=True)\n",
    "    \n"
   ]
  },
  {
   "cell_type": "code",
   "execution_count": null,
   "metadata": {},
   "outputs": [],
   "source": [
    "create_spectrogram_images(dataset, 'Dataset') # Save Spectrogram Images from loaded dataset"
   ]
  },
  {
   "attachments": {},
   "cell_type": "markdown",
   "metadata": {},
   "source": [
    "Loading Spectrogram Dataset"
   ]
  },
  {
   "cell_type": "code",
   "execution_count": 10,
   "metadata": {},
   "outputs": [
    {
     "name": "stdout",
     "output_type": "stream",
     "text": [
      "\n",
      "Class category and index of the images: {'hhc': 0, 'hho': 1, 'kd': 2, 'sd': 3}\n",
      "\n"
     ]
    },
    {
     "data": {
      "text/plain": [
       "Counter({1: 1354, 3: 1697, 2: 2039, 0: 1603})"
      ]
     },
     "execution_count": 10,
     "metadata": {},
     "output_type": "execute_result"
    }
   ],
   "source": [
    "data = datasets.ImageFolder(root='./spectrograms/Dataset', transform=transforms.ToTensor()) # Loading data from images \n",
    "class_map=data.class_to_idx # Class distribution\n",
    "print(\"\\nClass category and index of the images: {}\\n\".format(class_map))\n",
    "\n",
    "train_data, val_data, test_data = torch.utils.data.random_split(data, [6693 , 2231, 2231])\n",
    "\n",
    "train_classes = [label for _, label in train_data]\n",
    "Counter(train_classes) # Show training class distribution\n"
   ]
  },
  {
   "cell_type": "code",
   "execution_count": 11,
   "metadata": {},
   "outputs": [],
   "source": [
    "# Loading data into separate dataloaders\n",
    "train_loader = DataLoader(train_data, batch_size=8,num_workers=2, shuffle = True)\n",
    "val_loader = DataLoader(val_data, batch_size=8, num_workers=2, shuffle = True)\n",
    "test_loader = DataLoader(test_data, batch_size=1, num_workers=2, shuffle = True)"
   ]
  },
  {
   "attachments": {},
   "cell_type": "markdown",
   "metadata": {},
   "source": [
    "Training and Model Initialization"
   ]
  },
  {
   "cell_type": "code",
   "execution_count": 22,
   "metadata": {},
   "outputs": [],
   "source": [
    "device = 'cuda' if torch.cuda.is_available() else 'cpu'"
   ]
  },
  {
   "cell_type": "code",
   "execution_count": 23,
   "metadata": {},
   "outputs": [],
   "source": [
    "# Define CNN Network\n",
    "class Network(torch.nn.Module):\n",
    "   def __init__(self):\n",
    "      super().__init__()\n",
    "\n",
    "      self.layers = nn.Sequential(\n",
    "         nn.Conv2d(3, 32, kernel_size=5),\n",
    "         nn.MaxPool2d(2),\n",
    "         nn.ReLU(),\n",
    "         nn.Conv2d(32, 64, kernel_size=5),\n",
    "         nn.Dropout2d(),\n",
    "         nn.MaxPool2d(2),\n",
    "         nn.ReLU(),\n",
    "         nn.Flatten(),\n",
    "         nn.Linear(64 * 61 * 61, 200),\n",
    "         nn.ReLU(),\n",
    "         nn.Dropout2d(),\n",
    "         nn.Linear(200,4)\n",
    "\n",
    "      )\n",
    "      \n",
    "   def forward(self, x):\n",
    "      x = self.layers(x) \n",
    "      return x\n",
    "   def predict(self, x):\n",
    "      x = self.layers(x)\n",
    "      x = torch.argmax(x)\n",
    "      return x\n",
    "model = Network().to(device)"
   ]
  },
  {
   "cell_type": "code",
   "execution_count": 89,
   "metadata": {},
   "outputs": [],
   "source": [
    "# Define Loss and Optimizer functions\n",
    "loss_function = torch.nn.CrossEntropyLoss()\n",
    "optimizer = torch.optim.AdamW(model.parameters(), lr = 0.0001)"
   ]
  },
  {
   "cell_type": "code",
   "execution_count": null,
   "metadata": {},
   "outputs": [],
   "source": [
    "# Training and Test Loop\n",
    "\n",
    "losses = []\n",
    "train_acc = []\n",
    "val_acc = []\n",
    "\n",
    "for epoch in range(10):\n",
    "    print(f'Epoch {epoch+1}\\n-----------------')\n",
    "    losses.append(train(train_loader, model, loss_function, optimizer, device))\n",
    "    train_acc.append(test(train_loader, model, loss_function, device))\n",
    "    val_acc.append(test(val_loader, model, loss_function,device))\n",
    "print('Done!')"
   ]
  },
  {
   "cell_type": "code",
   "execution_count": 35,
   "metadata": {},
   "outputs": [
    {
     "data": {
      "text/plain": [
       "Text(0.5, 0, 'Epochs')"
      ]
     },
     "execution_count": 35,
     "metadata": {},
     "output_type": "execute_result"
    },
    {
     "data": {
      "image/png": "[encoded data removed]",
      "text/plain": [
       "<Figure size 432x288 with 1 Axes>"
      ]
     },
     "metadata": {
      "needs_background": "light"
     },
     "output_type": "display_data"
    }
   ],
   "source": [
    "plt.plot(train_acc)\n",
    "plt.plot(val_acc)\n",
    "plt.legend(['Training Accuracy','Validation Accuracy'])\n",
    "plt.ylabel('Accuracy')\n",
    "plt.xlabel('Epochs')"
   ]
  },
  {
   "attachments": {},
   "cell_type": "markdown",
   "metadata": {},
   "source": [
    "Save Model"
   ]
  },
  {
   "cell_type": "code",
   "execution_count": 47,
   "metadata": {},
   "outputs": [],
   "source": [
    "torch.save(model.state_dict(), 'model.pth')"
   ]
  },
  {
   "attachments": {},
   "cell_type": "markdown",
   "metadata": {},
   "source": [
    "Load Model"
   ]
  },
  {
   "cell_type": "code",
   "execution_count": 25,
   "metadata": {},
   "outputs": [
    {
     "data": {
      "text/plain": [
       "<All keys matched successfully>"
      ]
     },
     "execution_count": 25,
     "metadata": {},
     "output_type": "execute_result"
    }
   ],
   "source": [
    "model.load_state_dict(torch.load('model.pth', map_location=(device)))"
   ]
  },
  {
   "cell_type": "code",
   "execution_count": 26,
   "metadata": {},
   "outputs": [
    {
     "data": {
      "text/plain": [
       "<matplotlib.collections.LineCollection at 0x1df987686d0>"
      ]
     },
     "execution_count": 26,
     "metadata": {},
     "output_type": "execute_result"
    },
    {
     "data": {
      "image/png": "[encoded data removed]",
      "text/plain": [
       "<Figure size 1800x720 with 1 Axes>"
      ]
     },
     "metadata": {
      "needs_background": "light"
     },
     "output_type": "display_data"
    }
   ],
   "source": [
    "# Load Testing Audio File\n",
    "beatbox_test, beatbox_sr = librosa.load(\"joebeatbox.wav\", sr = None)\n",
    "\n",
    "# Detect Onsets\n",
    "test_onsets = librosa.onset.onset_detect(y = beatbox_test, sr = beatbox_sr, units = 'samples', backtrack = True, normalize = True, delta = .225)\n",
    "\n",
    "# Plot Onsets\n",
    "plt.figure(figsize = (25,10))\n",
    "plt.plot(beatbox_test)\n",
    "plt.vlines(test_onsets, ymin = 0, ymax = 1,color='r', alpha=0.9,\n",
    "           linestyle='--', label='Onsets')"
   ]
  },
  {
   "cell_type": "code",
   "execution_count": 117,
   "metadata": {},
   "outputs": [],
   "source": [
    "# slice audio into individual drum sounds\n",
    "# Correct Labels\n",
    "labels = ['k','hhc','hho','s','k','hhc','hhc','k','hhc','k', 'hho','s','k','hhc','hhc','k','s','k', 'hho','s'] # Joe Labels\n",
    "slices = []\n",
    "test_dataset = pd.DataFrame(columns = ['Specs','Label'])\n",
    "\n",
    "for i, onset in enumerate(test_onsets):\n",
    "    slices.append(beatbox_test[onset : onset+11025])\n",
    "    \n",
    "    mel = get_mel_spectrogram(slices[i])\n",
    "    test_dataset = test_dataset.append({'Specs':mel,'Label':labels[i]}, ignore_index=True)\n",
    "\n",
    "\n",
    "for _, row in test_dataset.iterrows(): # Saving Folder of Test Spectrograms in order\n",
    "    specs = row[0]\n",
    "\n",
    "    type = 'TestFile'\n",
    "    directory = f'./spectrograms/{type}'\n",
    "    if(os.path.isdir(directory)):\n",
    "        pass\n",
    "    else:\n",
    "        os.makedirs(directory, mode=0o777, exist_ok=True)\n",
    "\n",
    "    plt.imsave(f'./spectrograms/{type}/spec_img{i}.png', specs, cmap='viridis')\n",
    "    i += 1\n",
    "\n"
   ]
  },
  {
   "cell_type": "code",
   "execution_count": 28,
   "metadata": {},
   "outputs": [],
   "source": [
    "create_spectrogram_images(test_dataset, 'Joe') # For Training/Testing Purposes"
   ]
  },
  {
   "cell_type": "code",
   "execution_count": 204,
   "metadata": {},
   "outputs": [],
   "source": [
    "dir = f'./spectrograms/TestFile'\n",
    "filenames = [name for name in os.listdir(dir)]\n",
    "\n",
    "batch_size = len(filenames)\n",
    "batch = torch.zeros(batch_size, 3, 256, 256, dtype=torch.float32)\n",
    "\n",
    "for i, filename in enumerate(filenames):\n",
    "    batch[i] = io.read_image(os.path.join(dir, filename), mode = io.ImageReadMode.RGB)\n"
   ]
  },
  {
   "cell_type": "code",
   "execution_count": 177,
   "metadata": {},
   "outputs": [],
   "source": [
    "# Use for dataset with classes for training/testing \n",
    "# testdata = datasets.ImageFolder(root='./spectrograms/', transform=transforms.ToTensor())\n",
    "# class_map=testdata.class_to_idx\n",
    "# print(\"\\nClass category and index of the images: {}\\n\".format(class_map))\n",
    "\n",
    "# test_loader = DataLoader(testdata, batch_size=1,num_workers=2)\n",
    "\n",
    "\n",
    "\n",
    "testdata = datasets.ImageFolder(root='./spectrograms/Joe', transform = transforms.ToTensor())\n",
    "test_loader = DataLoader(testdata, batch_size=1, num_workers=2)\n"
   ]
  },
  {
   "cell_type": "code",
   "execution_count": 111,
   "metadata": {},
   "outputs": [
    {
     "name": "stdout",
     "output_type": "stream",
     "text": [
      "\n",
      "Test Error:\n",
      "acc: 100.0%, avg loss: 0.181688\n",
      "\n"
     ]
    },
    {
     "data": {
      "text/plain": [
       "100.0"
      ]
     },
     "execution_count": 111,
     "metadata": {},
     "output_type": "execute_result"
    }
   ],
   "source": [
    "test(test_loader, model, loss_function, device)"
   ]
  },
  {
   "cell_type": "code",
   "execution_count": 207,
   "metadata": {},
   "outputs": [],
   "source": [
    "triggers = np.zeros(len(test_onsets))\n",
    "for i in range(len(batch)):\n",
    "    X = batch[i]\n",
    "    predict = model.predict(X[None,:]).numpy()\n",
    "    triggers[i] = predict\n",
    "    \n"
   ]
  },
  {
   "cell_type": "code",
   "execution_count": 208,
   "metadata": {},
   "outputs": [
    {
     "data": {
      "text/plain": [
       "array([2., 0., 1., 3., 2., 0., 0., 2., 0., 2., 1., 3., 2., 0., 0., 2., 3.,\n",
       "       2., 1., 3.])"
      ]
     },
     "execution_count": 208,
     "metadata": {},
     "output_type": "execute_result"
    }
   ],
   "source": [
    "triggers\n"
   ]
  },
  {
   "cell_type": "code",
   "execution_count": 237,
   "metadata": {},
   "outputs": [],
   "source": [
    "# load samples\n",
    "k_wav, _ = librosa.load(\"Nollie Kick.wav\", sr = None)\n",
    "s_wav, beatbox_sr = librosa.load(\"Fakie Flip Snare.wav\", sr = None)\n",
    "hhc_wav, beatbox_sr = librosa.load(\"Heel Flip Hat.wav\", sr = None)\n",
    "hho_wav, beatbox_sr = librosa.load(\"a-openhat.wav\", sr = None)\n",
    "\n",
    "# create array for audio translation\n",
    "translation  = np.zeros(len(beatbox_test)+1000)\n",
    "\n",
    "counter = 0\n",
    "\n",
    "\n",
    "for i in range(len(translation)):\n",
    "    if test_onsets[counter] == i:\n",
    "        \n",
    "        # if predicted label is kick\n",
    "        if triggers[counter] == 2:\n",
    "            translation[i:i+len(k_wav)] = k_wav\n",
    "        elif triggers[counter] == 3:\n",
    "            translation[i:i+len(s_wav)] = s_wav\n",
    "        elif triggers[counter] == 0:\n",
    "            translation[i:i+len(hhc_wav)] = hhc_wav\n",
    "        elif triggers[counter] == 1:\n",
    "            translation[i:i+len(hho_wav)] = hho_wav\n",
    "\n",
    "        # count through onset_detection index array\n",
    "        counter += 1\n",
    "        if counter == len(test_onsets):\n",
    "            break"
   ]
  },
  {
   "cell_type": "code",
   "execution_count": 242,
   "metadata": {},
   "outputs": [
    {
     "data": {
      "text/plain": [
       "[<matplotlib.lines.Line2D at 0x1dfe8bad0a0>]"
      ]
     },
     "execution_count": 242,
     "metadata": {},
     "output_type": "execute_result"
    },
    {
     "data": {
      "image/png": "[encoded data removed]",
      "text/plain": [
       "<Figure size 432x288 with 1 Axes>"
      ]
     },
     "metadata": {
      "needs_background": "light"
     },
     "output_type": "display_data"
    }
   ],
   "source": [
    "plt.plot(translation)\n",
    "plt.plot(beatbox_test)\n"
   ]
  },
  {
   "cell_type": "code",
   "execution_count": 241,
   "metadata": {},
   "outputs": [],
   "source": [
    "soundfile.write('out+joe.wav',translation[:len(beatbox_test)]+beatbox_test * 2.5, 44100)"
   ]
  },
  {
   "cell_type": "code",
   "execution_count": null,
   "metadata": {},
   "outputs": [],
   "source": []
  }
 ],
 "metadata": {
  "kernelspec": {
   "display_name": "base",
   "language": "python",
   "name": "python3"
  },
  "language_info": {
   "codemirror_mode": {
    "name": "ipython",
    "version": 3
   },
   "file_extension": ".py",
   "mimetype": "text/x-python",
   "name": "python",
   "nbconvert_exporter": "python",
   "pygments_lexer": "ipython3",
   "version": "3.9.13"
  },
  "orig_nbformat": 4,
  "vscode": {
   "interpreter": {
    "hash": "03693f3c6a313b5d3a7c2b7ec8ef7be2d4e0715aee21eda25f623623dca7cf10"
   }
  }
 },
 "nbformat": 4,
 "nbformat_minor": 2
}
